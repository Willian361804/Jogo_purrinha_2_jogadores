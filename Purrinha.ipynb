{
 "cells": [
  {
   "cell_type": "code",
   "execution_count": 176,
   "metadata": {},
   "outputs": [],
   "source": [
    "def jp():\n",
    "    s = []\n",
    "    t = []\n",
    "    for i in range(0,2):\n",
    "        s.append(random.randint(0,3))\n",
    "    t.append([random.randint(s[0],3+s[0])])\n",
    "    if t[0] == [0]:\n",
    "        t.append([s[1]])\n",
    "    if t[0] == [1]:\n",
    "        if s[1] == 0:\n",
    "            t.append([0])\n",
    "        if s[1] == 1:\n",
    "            t.append([2])\n",
    "        if s[1] == 2:\n",
    "            t.append([random.randint(2,3)])\n",
    "        if s[1] == 3:\n",
    "            t.append([random.randint(3,4)])\n",
    "    if t[0] == [2]:\n",
    "        if s[1] == 0:\n",
    "            t.append([random.randint(0,1)])\n",
    "        if s[1] == 1:\n",
    "            t.append(random.sample([1,3],1))\n",
    "        if s[1] == 2:\n",
    "            t.append([random.randint(3,4)])\n",
    "        if s[1] == 3:\n",
    "            t.append([random.randint(3,5)])\n",
    "    if t[0] == [3]:\n",
    "        if s[1] == 0:\n",
    "            t.append([random.randint(0,2)])\n",
    "        if s[1] == 1:\n",
    "            t.append(random.sample([1,2,4],1))\n",
    "        if s[1] == 2:\n",
    "            t.append(random.sample([2,4,5],1))\n",
    "        if s[1] == 3:\n",
    "            t.append([random.randint(4,6)])\n",
    "    if t[0] == [4]:\n",
    "        if s[1] == 0:\n",
    "            t.append([random.randint(1,3)])\n",
    "        if s[1] == 1:\n",
    "            t.append([random.randint(2,3)])\n",
    "        if s[1] == 2:\n",
    "            t.append([random.randint(3,5)])\n",
    "        if s[1] == 3:\n",
    "            t.append([random.randint(5,6)])\n",
    "    if t[0] == [5]:\n",
    "        if s[1] == 0:\n",
    "            t.append([random.randint(2,3)])\n",
    "        if s[1] == 1:\n",
    "            t.append([random.randint(3,4)])\n",
    "        if s[1] == 2:\n",
    "            t.append([4])\n",
    "        if s[1] == 3:\n",
    "            t.append([6])\n",
    "    if t[0] == [6]:\n",
    "        t.append([s[1]])\n",
    "    if t[0] == [sum(s)]:\n",
    "        return(s,t,[sum(s)],'Jogador 1 venceu')\n",
    "    if t[1] == [sum(s)]:\n",
    "        return(s,t,[sum(s)],'Jogador 2 venceu')\n",
    "    else:\n",
    "        return(s,t,[sum(s)],'Ninguém venceu')"
   ]
  },
  {
   "cell_type": "code",
   "execution_count": 178,
   "metadata": {},
   "outputs": [
    {
     "data": {
      "text/plain": [
       "([3, 3], [[4], [5]], [6], 'Ninguém venceu')"
      ]
     },
     "execution_count": 178,
     "metadata": {},
     "output_type": "execute_result"
    }
   ],
   "source": [
    "jp()"
   ]
  }
 ],
 "metadata": {
  "kernelspec": {
   "display_name": "Python 3",
   "language": "python",
   "name": "python3"
  },
  "language_info": {
   "codemirror_mode": {
    "name": "ipython",
    "version": 3
   },
   "file_extension": ".py",
   "mimetype": "text/x-python",
   "name": "python",
   "nbconvert_exporter": "python",
   "pygments_lexer": "ipython3",
   "version": "3.7.1"
  }
 },
 "nbformat": 4,
 "nbformat_minor": 2
}
